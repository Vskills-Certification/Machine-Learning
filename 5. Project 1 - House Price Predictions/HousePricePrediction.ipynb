{
 "cells": [
  {
   "cell_type": "markdown",
   "metadata": {},
   "source": [
    "# Project 1 - Boston House Prices\n",
    "\n",
    "### Download Dataset From The Following Link\n",
    "https://www.kaggle.com/c/boston-housing\n",
    "\n",
    "- Follow the instructions to complete the project\n",
    "- Knowledge of Python and Python Libraries is a Pre-requisite\n",
    "- Feel free to add in your code and analysis, this is a practice exercise and you should try to implement your learnings\n",
    "- If something is not clear, go back to lessons, or the documentation page for Python Libraries"
   ]
  },
  {
   "cell_type": "code",
   "execution_count": null,
   "metadata": {},
   "outputs": [],
   "source": [
    "# import the libraries\n",
    "import numpy as np\n",
    "import pandas as pd\n",
    "import matplotlib.pyplot as plt\n",
    "import seaborn as sns\n",
    "%matplotlib inline # keeps the plots in one place"
   ]
  },
  {
   "cell_type": "code",
   "execution_count": null,
   "metadata": {},
   "outputs": [],
   "source": [
    "# load data using pandas.read_csv(filename)\n",
    "house = pd.read_csv()\n"
   ]
  },
  {
   "cell_type": "code",
   "execution_count": null,
   "metadata": {},
   "outputs": [],
   "source": [
    "# Initial Data Inspection\n",
    "# Use house.head() to display first n rows\n",
    "# Use house.info and house.describe to inspect data\n",
    "\n"
   ]
  },
  {
   "cell_type": "code",
   "execution_count": null,
   "metadata": {},
   "outputs": [],
   "source": [
    "# separate feature variables and target variable\n",
    "price = house['MEDV'] # target variable\n",
    "features = house.drop('MEDV', axis = 1) # feature variables"
   ]
  },
  {
   "cell_type": "code",
   "execution_count": null,
   "metadata": {},
   "outputs": [],
   "source": [
    "# data inspection\n",
    "minimum_price = np.min(price)\n",
    "\n",
    "maximum_price = np.max(price)\n",
    "\n",
    "mean_price = np.mean(price)\n",
    "\n",
    "median_price = np.median(price)\n",
    "\n",
    "std_price = np.std(price)\n",
    "\n",
    "# print the calculated values\n"
   ]
  },
  {
   "cell_type": "code",
   "execution_count": null,
   "metadata": {},
   "outputs": [],
   "source": [
    "# Visualize your data\n",
    "for var in ['RM', 'LSTAT', 'PTRATIO']:\n",
    "    sns.regplot(house[var], price)\n",
    "    plt.show()\n",
    "    \n",
    "import matplotlib.pyplot as plt\n",
    "plt.figure(figsize=(20, 5))\n",
    "\n",
    "for i, col in enumerate(features.columns):\n",
    "    \n",
    "    plt.subplot(1, 3, i+1)\n",
    "    x = house[col]\n",
    "    y = price\n",
    "    plt.plot(x, y, 'o')\n",
    "    \n",
    "    # Create regression line\n",
    "    plt.plot(np.unique(x), np.poly1d(np.polyfit(x, y, 1))(np.unique(x)))\n",
    "    plt.title(col)\n",
    "    plt.xlabel(col)\n",
    "    plt.ylabel('prices')"
   ]
  },
  {
   "cell_type": "markdown",
   "metadata": {},
   "source": [
    "### R2 Score\n",
    "For this project, we will use R2 score to measure our model's performance. Read more about it at the following links:\n",
    "\n",
    "http://www.statisticshowto.com/probability-and-statistics/coefficient-of-determination-r-squared/\n",
    "\n",
    "http://scikit-learn.org/stable/modules/generated/sklearn.metrics.r2_score.html"
   ]
  },
  {
   "cell_type": "code",
   "execution_count": null,
   "metadata": {},
   "outputs": [],
   "source": [
    "# create a function for calculating performance using the r2 score\n",
    "from sklearn.metrics import r2_score\n",
    "def performance_metric(y_true, y_predict):\n",
    "    \n",
    "    score = r2_score(y_true, y_predict)\n",
    "    return score"
   ]
  },
  {
   "cell_type": "code",
   "execution_count": null,
   "metadata": {},
   "outputs": [],
   "source": [
    "# Shuffle and split the data into training and testing subsets\n",
    "from sklearn.cross_validation import train_test_split\n",
    "\n",
    "X_train, X_test, y_train, y_test = train_test_split(features, price, test_size=0.20, random_state=33)\n"
   ]
  },
  {
   "cell_type": "markdown",
   "metadata": {},
   "source": [
    "### Learning Assignment\n",
    "\n",
    "What is Grid Search and Cross-Validation?\n",
    "\n",
    "- This is your learning assignment, before you move further you need to research and gather information on Grid Search and Cross-Validation. Learn about these concepts and then move ahead."
   ]
  },
  {
   "cell_type": "code",
   "execution_count": null,
   "metadata": {},
   "outputs": [],
   "source": [
    "from sklearn.tree import DecisionTreeRegressor\n",
    "from sklearn.linear_model import LinearRegression\n",
    "from sklearn.metrics import make_scorer\n",
    "from sklearn.grid_search import GridSearchCV\n",
    "\n",
    "def model(X, y, regressor):\n",
    "    \n",
    "    # Create cross-validation sets from the training data\n",
    "    cv_sets = ShuffleSplit(X.shape[0], n_iter = 10, test_size = 0.20, random_state = 0)\n",
    "\n",
    "    # dictionary for the parameter 'max_depth' with a range from 1 to 10\n",
    "    params = {'max_depth':range(1,11)} \n",
    "\n",
    "    # scoring function using 'make_scorer'\n",
    "    score = make_scorer(performance_metric) \n",
    "   \n",
    "    # Create the grid search object\n",
    "    grid = GridSearchCV(regressor, param_grid=params, scoring=score, cv=cv_sets)  \n",
    "\n",
    "    # Fit the grid search object to the data to compute the optimal model\n",
    "    grid = grid.fit(X, y) \n",
    "\n",
    "    # Return the optimal model after fitting the data\n",
    "    return grid.best_estimator_"
   ]
  },
  {
   "cell_type": "code",
   "execution_count": null,
   "metadata": {},
   "outputs": [],
   "source": [
    "# Fit the training data to the model using grid search\n",
    "regressor_1 = DecisionTreeRegressor() # Create a decision tree regressor object\n",
    "regressor_2 = LinearRegression() # Create a linear regression object\n",
    "\n",
    "# Select your regressor and train your model\n",
    "regression = model(X_train, y_train, regressor_1)"
   ]
  },
  {
   "cell_type": "code",
   "execution_count": null,
   "metadata": {},
   "outputs": [],
   "source": [
    "# Make Predictions\n",
    "# Produce a random data matrix to predict house prices\n",
    "data = [[5, 17, 15],\n",
    "        [4, 32, 22],\n",
    "        [8, 3, 12]]\n",
    "\n",
    "# Display predictions\n",
    "for i, price in enumerate(regression.predict(data)):\n",
    "    print(\"Predicted selling price for Client {}'s home: ${:,.2f}\".format(i+1, price))"
   ]
  }
 ],
 "metadata": {
  "kernelspec": {
   "display_name": "Python 3",
   "language": "python",
   "name": "python3"
  },
  "language_info": {
   "codemirror_mode": {
    "name": "ipython",
    "version": 3
   },
   "file_extension": ".py",
   "mimetype": "text/x-python",
   "name": "python",
   "nbconvert_exporter": "python",
   "pygments_lexer": "ipython3",
   "version": "3.6.6"
  }
 },
 "nbformat": 4,
 "nbformat_minor": 2
}
